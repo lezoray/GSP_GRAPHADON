{
 "cells": [
  {
   "cell_type": "markdown",
   "metadata": {},
   "source": [
    "École d'été GRAPHADON\n",
    "=======\n",
    "Travaux pratiques avec pyGSP\n",
    "-----------\n",
    "\n",
    "Nous allons voir une introduction pratique au traitement de signaux sur graphes (GSP - Graph Signal Processing). Nous utiliserons le package python [pyGSP](https://github.com/epfl-lts2/pygsp). Ce package, conçu par l'EPFL, permet d'effectuer une grande variété d'opérations pour manipuler des signaux sur graphes, en particulier pour le calcul et la manipulation de la Graph Fourier Transform (GFT) à des fins de filtrage par exemple. \n",
    "\n",
    "Vous devrez avoir installé au préalable ce package avec votre gestionnaire de package python préféré: `pip`ou `conda`. Avec `pip`faites la commande `python3 -m pip install pygsp`.\n",
    "\n",
    "La documentation des fonctionnalités de pyGSP est acessible [ici](https://pygsp.readthedocs.io/en/v0.5.1/reference/index.html).\n",
    "\n",
    "Commençons par importer les packages dont nous aurons besoin (si certains sont manquants, installez-les également)."
   ]
  },
  {
   "cell_type": "code",
   "execution_count": 1,
   "metadata": {},
   "outputs": [],
   "source": [
    "import numpy as np\n",
    "import scipy as sp\n",
    "import matplotlib.pyplot as plt\n",
    "import pygsp\n"
   ]
  }
 ],
 "metadata": {
  "kernelspec": {
   "display_name": "Python 3 (ipykernel)",
   "language": "python",
   "name": "python3"
  },
  "language_info": {
   "codemirror_mode": {
    "name": "ipython",
    "version": 3
   },
   "file_extension": ".py",
   "mimetype": "text/x-python",
   "name": "python",
   "nbconvert_exporter": "python",
   "pygments_lexer": "ipython3",
   "version": "3.11.4"
  }
 },
 "nbformat": 4,
 "nbformat_minor": 4
}
